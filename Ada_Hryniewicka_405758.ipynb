{
  "cells": [
    {
      "attachments": {},
      "cell_type": "markdown",
      "metadata": {
        "id": "lMLr_jY-yNiU"
      },
      "source": [
        "# Statistical Data Analysis II\n",
        "\n",
        "## Project 2\n",
        "\n",
        "### Ada Hryniewicka"
      ]
    },
    {
      "attachments": {},
      "cell_type": "markdown",
      "metadata": {
        "id": "PGLj3BrD5xvH"
      },
      "source": [
        "### Gibbs Sampling\n",
        "\n",
        "The goal of this project was to write Gibbs sampler for Bayesian network presented on the graph below and find P(R=T|W=T,S=T). \n",
        "\n",
        "\n",
        "\n"
      ]
    },
    {
      "cell_type": "markdown",
      "metadata": {
        "id": "AtFecPCSBb7c"
      },
      "source": [
        "![picture](https://docs.google.com/uc?id=1w_2MBvDcfkuvYVaytE028LTBK-ks9gRE)"
      ]
    },
    {
      "cell_type": "markdown",
      "metadata": {
        "id": "zpOyumqPovQl"
      },
      "source": [
        "### Task 1\n",
        "Computing the formulas.\n",
        "Where R=True and R'=False and other symbols by analogy.\n",
        "\n",
        "$P(C|R,S,W)= P(C|R,S)= \\frac{P(R,S|C)P(C)}{P(R,S)}= \\frac{P(R|C)P(S|C)P(C)}{P(R|C)P(S|C)P(C)+P(R|C')P(S|C')P(C')}= \\frac{0.8*0.1*0.5}{0.8*0.1*0.5+0.2*0.5*0.5}= 0.4444$\n",
        "\n",
        "$P(C|R',S,W)= P(C|R',S)= \\frac{P(R',S|C)P(C)}{P(R',S)}= \\frac{P(R'|C)P(S|C)P(C)}{P(R'|C)P(S|C)P(C)+P(R'|C')P(S|C')P(C')}= \\frac{0.2*0.1*0.5}{0.2*0.1*0.5+0.8*0.5*0.5}=0.0476 $\n",
        "\n",
        "$P(R|C,S,W)= \\frac{P(W|R,C,S)P(R|C,S)}{P(W|C,S)}= \\frac{P(W|R,S)P(R|C)}{P(W|R,S)P(R|C)+P(W|R',S)P(R'|C)}= \\frac{0.99*0.8}{0.99*0.8+0.9*0.2}= 0.8148$\n",
        "\n",
        "$P(R|C',S,W)= \\frac{P(W|R,C',S)P(R|C',S)}{P(W|C',S)}= \\frac{P(W|R,S)P(R|C')}{P(W|R,S)P(R|C')+P(W|R',S)P(R'|C')}= \\frac{0.99*0.2}{0.99*0.2+0.9*0.8}= 0.2157$"
      ]
    },
    {
      "cell_type": "code",
      "execution_count": 3,
      "metadata": {
        "id": "SbyP_haMk7Gq"
      },
      "outputs": [],
      "source": [
        "import numpy as np\n",
        "import scipy as sp\n",
        "import matplotlib.pyplot as plt\n",
        "import pandas as pd\n",
        "import random \n",
        "import seaborn as sns\n",
        "import statsmodels.api as sm\n",
        "sns.set()\n",
        "random.seed(10)"
      ]
    },
    {
      "attachments": {},
      "cell_type": "markdown",
      "metadata": {
        "id": "ZIf9EzZqrxXM"
      },
      "source": [
        "### Task 2 & 3\n",
        "Implementation of the Gibbs sampler for the given Bayesian network and drawing 100 samples from the joint probability distribution P (R, C | S = T, W = T) and estimation of the marginal probability of rain, given that the sprinkler is on and the grass is wet P(R=T|S=T,W =T)."
      ]
    },
    {
      "cell_type": "code",
      "execution_count": 4,
      "metadata": {
        "id": "ELoaZW1Mk7Gt"
      },
      "outputs": [],
      "source": [
        "def transition_func(p):\n",
        "    \"Binomial distribution over certain probability\"\n",
        "    return np.random.binomial(1,p)\n"
      ]
    },
    {
      "cell_type": "code",
      "execution_count": 5,
      "metadata": {
        "id": "Ii4Ss7huk7Gv"
      },
      "outputs": [],
      "source": [
        "def choose_prob(cloud_rain, cloud, rain):\n",
        "    \"Choosing probability depending value: if cloud_rain is True, update rain values; if cloud_rain is False update cloud values\"\n",
        "    if (cloud_rain):\n",
        "        if(rain): \n",
        "            prob = 0.4444\n",
        "        else: \n",
        "            prob = 0.0476\n",
        "    else: \n",
        "        if(cloud):\n",
        "            prob = 0.8148\n",
        "        else: \n",
        "            prob = 0.2157\n",
        "    return prob  \n",
        "        \n"
      ]
    },
    {
      "cell_type": "code",
      "execution_count": 6,
      "metadata": {
        "id": "c_PoLTLnk7Gz"
      },
      "outputs": [],
      "source": [
        "def gibbs_step(cloud_rain, cloud, rain):\n",
        "    \"Choosing the step with certain probability\"\n",
        "    prob = choose_prob(cloud_rain, cloud, rain)\n",
        "    newstate = (transition_func(prob) == 1)\n",
        "\n",
        "    if (cloud_rain):\n",
        "        cloud = newstate\n",
        "    else: \n",
        "        rain = newstate\n",
        "\n",
        "    return (cloud, rain)  \n"
      ]
    },
    {
      "cell_type": "code",
      "execution_count": 7,
      "metadata": {
        "id": "OSJgqYN6k7G0"
      },
      "outputs": [],
      "source": [
        "def cloud_rain_selector(cloud, rain):\n",
        "    \"Randomly selecting cloud or rain variable, if cloud = 1 means true, otherwise false  \"\n",
        "    number_0_1 = random.randint(0,1)\n",
        "    cloud_rain = (number_0_1 == 1) \n",
        "    return (gibbs_step(cloud_rain, cloud, rain)) "
      ]
    },
    {
      "cell_type": "code",
      "execution_count": 8,
      "metadata": {
        "id": "bHeg3pPKk7G2"
      },
      "outputs": [],
      "source": [
        "def gibbs_iteration(nIter, cloud, rain):\n",
        "    \"Implementing final iteration in gibbs sampler\"\n",
        "    cloud_array = [cloud]\n",
        "    rain_array = [rain]\n",
        "\n",
        "    for i in range(1,nIter):\n",
        "        state_cloud, state_rain = cloud_rain_selector(cloud_array[i-1], rain_array[i-1])\n",
        "        \n",
        "        cloud_array.append(state_cloud)\n",
        "        rain_array.append(state_rain)\n",
        "\n",
        "    return cloud_array, rain_array \n"
      ]
    },
    {
      "cell_type": "code",
      "execution_count": 9,
      "metadata": {
        "id": "IKKaTEE5k7G3"
      },
      "outputs": [],
      "source": [
        "def joint_prob(test_cloud, test_rain):\n",
        "    \"Create a list with 1 when Cloudy = T and Rain = T and 0 otherwise\"\n",
        "    cloudy_and_rained = []\n",
        "    for i in range(len(test_cloud)):\n",
        "        if test_cloud[i] == True and test_rain[i] == True: \n",
        "            cloudy_and_rained.append(1)\n",
        "        else: \n",
        "            cloudy_and_rained.append(0)\n",
        "    return cloudy_and_rained\n"
      ]
    },
    {
      "cell_type": "code",
      "execution_count": 10,
      "metadata": {
        "colab": {
          "base_uri": "https://localhost:8080/"
        },
        "id": "7MmCBw1zk7G6",
        "outputId": "20270987-cb9d-4b80-96b5-fb6a61d947ec"
      },
      "outputs": [
        {
          "name": "stdout",
          "output_type": "stream",
          "text": [
            "P(R,C|W=T,S=T)= 0.23\n",
            "P(R=T|S=T,W=T)= 0.43\n"
          ]
        }
      ],
      "source": [
        "nIteration = 100\n",
        "test_cloud, test_rain = gibbs_iteration(nIteration,True,True)\n",
        "cloudy_and_rained = joint_prob(test_cloud, test_rain)\n",
        "print(\"P(R,C|W=T,S=T)=\", np.mean(cloudy_and_rained))\n",
        "print(\"P(R=T|S=T,W=T)=\", np.mean(test_rain))"
      ]
    },
    {
      "cell_type": "markdown",
      "metadata": {
        "id": "RWy1NQ4ysYnJ"
      },
      "source": [
        "### Task 4\n",
        "Drawing 50,000 samples instead of 100 using the Gibbs sampler."
      ]
    },
    {
      "cell_type": "code",
      "execution_count": 11,
      "metadata": {
        "id": "NMGB9PSXk7G7"
      },
      "outputs": [],
      "source": [
        "nIteration = 50000\n",
        "#two run of a sampler for further comparison\n",
        "test_cloud1, test_rain1 = gibbs_iteration(nIteration,True,True)\n",
        "test_cloud2, test_rain2 = gibbs_iteration(nIteration,True,True)\n"
      ]
    },
    {
      "cell_type": "code",
      "execution_count": 12,
      "metadata": {
        "id": "7aaSxCsGk7G8"
      },
      "outputs": [],
      "source": [
        "cloudy_and_rained1 = joint_prob(test_cloud1, test_rain1)\n",
        "cloudy_and_rained2 = joint_prob(test_cloud2, test_rain2)"
      ]
    },
    {
      "cell_type": "markdown",
      "metadata": {
        "id": "-R1HvJtTsgd0"
      },
      "source": [
        "### Task 5\n",
        "The plot of the relative frequencies of R = T and C = T up to each iteration t against t, for two independent runs of the sampler."
      ]
    },
    {
      "cell_type": "code",
      "execution_count": 13,
      "metadata": {
        "id": "RhJ3SXKdk7G-"
      },
      "outputs": [],
      "source": [
        "def burn_in_plot_data(cloudy_and_rained):\n",
        "    \"Preparing the list of the relative frequencies of R = T and C = T up to each iteration\"\n",
        "    iteration = 0 \n",
        "    joint_prob = []\n",
        "    for i in range(len(cloudy_and_rained)):\n",
        "        iteration += 1\n",
        "        joint_prob.append(sum(cloudy_and_rained[0:i]) / iteration)\n",
        "\n",
        "    return joint_prob\n",
        "\n",
        "cloudy_rained1_plot = burn_in_plot_data(cloudy_and_rained1)\n",
        "cloudy_rained2_plot = burn_in_plot_data(cloudy_and_rained2)"
      ]
    },
    {
      "cell_type": "code",
      "execution_count": 14,
      "metadata": {
        "colab": {
          "base_uri": "https://localhost:8080/",
          "height": 481
        },
        "id": "YN2-7oAvk7G_",
        "outputId": "68431335-134b-4fe8-c1e3-2a4cc95e163d"
      },
      "outputs": [
        {
          "data": {
            "text/plain": [
              "<matplotlib.legend.Legend at 0x7fd76b342520>"
            ]
          },
          "execution_count": 14,
          "metadata": {},
          "output_type": "execute_result"
        },
        {
          "data": {
            "image/png": "[encoded data removed]",
            "text/plain": [
              "<Figure size 1000x700 with 1 Axes>"
            ]
          },
          "metadata": {},
          "output_type": "display_data"
        }
      ],
      "source": [
        "t = np.arange(0,nIteration,1)\n",
        "sns.set_theme(style=\"whitegrid\", palette=\"pastel\")\n",
        "plt.figure(figsize=(10,7))\n",
        "plt.plot(t,cloudy_rained1_plot, label='1st run of the sampler')\n",
        "plt.plot(t,cloudy_rained2_plot, label='2nd run of the sampler')\n",
        "plt.xlabel('iteration')\n",
        "plt.ylabel('frequency')\n",
        "plt.title('The relative frequencies of R = T and C = T up to each iteration')\n",
        "plt.legend()"
      ]
    },
    {
      "attachments": {},
      "cell_type": "markdown",
      "metadata": {
        "id": "3eml2iQMk7HB"
      },
      "source": [
        "Suggestion about burning-in time based on this plot is 25000. This is when the plot converges. "
      ]
    },
    {
      "cell_type": "markdown",
      "metadata": {
        "id": "CyjrfXK_sx2c"
      },
      "source": [
        "### Task 6 \n",
        "Investigate the auto-correlation among the samples. Plot for the lag-k auto-correlation."
      ]
    },
    {
      "cell_type": "code",
      "execution_count": 41,
      "metadata": {
        "colab": {
          "base_uri": "https://localhost:8080/"
        },
        "id": "aXp6DVxrk7HD",
        "outputId": "421bd634-3282-4f01-f74c-8ec3968d6106"
      },
      "outputs": [],
      "source": [
        "#lists of relative frequencies as imput for correlation computation\n",
        "cloud_lag = burn_in_plot_data(test_cloud1)\n",
        "rain_lag = burn_in_plot_data(test_rain1)\n",
        "#correlation depending on lags\n",
        "lags = np.arange(1,5000)\n",
        "acorr_cloudy = sm.tsa.acf(cloud_lag, nlags = len(lags)-1)\n",
        "acorr_rain = sm.tsa.acf(rain_lag, nlags = len(lags)-1)"
      ]
    },
    {
      "cell_type": "code",
      "execution_count": 42,
      "metadata": {
        "colab": {
          "base_uri": "https://localhost:8080/",
          "height": 372
        },
        "id": "8R5aIyUwk7HD",
        "outputId": "50618285-afe5-47f4-d348-5ae6d9e11a79"
      },
      "outputs": [
        {
          "data": {
            "text/plain": [
              "Text(0, 0.5, 'correlation')"
            ]
          },
          "execution_count": 42,
          "metadata": {},
          "output_type": "execute_result"
        },
        {
          "data": {
            "image/png": "[encoded data removed]",
            "text/plain": [
              "<Figure size 1500x1200 with 2 Axes>"
            ]
          },
          "metadata": {},
          "output_type": "display_data"
        }
      ],
      "source": [
        "plt.figure(figsize=(15,12))\n",
        "plt.subplot(221)\n",
        "plt.plot(lags, acorr_cloudy, '-')\n",
        "plt.title('Cloudy')\n",
        "plt.xlabel('k-lag')\n",
        "plt.ylabel('correlation')\n",
        "plt.subplot(222)\n",
        "plt.plot(lags, acorr_rain, '-')\n",
        "plt.title('Rain')\n",
        "plt.xlabel('k-lag')\n",
        "plt.ylabel('correlation')\n"
      ]
    },
    {
      "attachments": {},
      "cell_type": "markdown",
      "metadata": {
        "id": "sleIVKvTk7HE"
      },
      "source": [
        "Based on the plots thinning-out parameter was chosen to 1000. "
      ]
    },
    {
      "cell_type": "markdown",
      "metadata": {
        "id": "iT53j1Kus8lK"
      },
      "source": [
        "### Task 7 \n",
        "Implementing suggested burn-in and thin-out for sampler."
      ]
    },
    {
      "cell_type": "code",
      "execution_count": 17,
      "metadata": {
        "id": "qiM-NK6uk7HF"
      },
      "outputs": [],
      "source": [
        "def implement_parameters(burn, thin, results):\n",
        "    \"Implementation of burning-in parameter and thinning-out\"\n",
        "    \n",
        "    index_list = np.arange(burn, len(results), thin)\n",
        "    res_list = [results[i] for i in index_list]\n",
        "\n",
        "    return res_list\n"
      ]
    },
    {
      "attachments": {},
      "cell_type": "markdown",
      "metadata": {
        "id": "Vt-IcCeJtRe4"
      },
      "source": [
        "### Task 8 \n",
        "Re-estimation of P (R = T | S = T, W = T)."
      ]
    },
    {
      "cell_type": "code",
      "execution_count": 43,
      "metadata": {
        "colab": {
          "base_uri": "https://localhost:8080/"
        },
        "id": "e5l8pZMMk7He",
        "outputId": "9957a145-49ef-4eed-f854-a8bb03e542e0"
      },
      "outputs": [
        {
          "name": "stdout",
          "output_type": "stream",
          "text": [
            "After adjusting burn-in and thinning-out parameters: 0.32\n",
            "Result for the same probability obtained in task 3: 0.43\n",
            "Result for 50k samples wihout any modyfications of sampler is: 0.31766\n"
          ]
        }
      ],
      "source": [
        "burn_in = 25000\n",
        "thining_out = 1000\n",
        "#sample_100 = random.sample(implement_parameters(burn_in,thining_out,test_rain1), 10)\n",
        "print(\"After adjusting burn-in and thinning-out parameters:\", np.mean(implement_parameters(burn_in,thining_out,test_rain1))) \n",
        "print(\"Result for the same probability obtained in task 3:\", np.mean(test_rain))\n",
        "print(\"Result for 50k samples wihout any modyfications of sampler is:\", np.mean(test_rain1))"
      ]
    },
    {
      "cell_type": "markdown",
      "metadata": {
        "id": "STIvt87twKJ4"
      },
      "source": [
        "Value after implementing the burn-in and thinning-out is smaller and closer to value from 50k sampler without modyfications which indicates it is closer to true value."
      ]
    },
    {
      "cell_type": "markdown",
      "metadata": {
        "id": "iNqgGZEgtcDx"
      },
      "source": [
        "### Task 9\n",
        "Computing P (R = T | S = T, W = T) analytically and comparision to the sampling estimate. "
      ]
    },
    {
      "cell_type": "markdown",
      "metadata": {
        "id": "__T8uQFxk7Hf"
      },
      "source": [
        "Analytical computation of P(R=T|W=T,S=T), where R=T is R and R=F is R' and other symbols by analogy.\n",
        "\n",
        "$P(R|S,W)= \\frac{P(R,S,W)}{P(S,W)}= \\frac{P(R,S,W|C)P(C)+P(R,A,W|C')P(C')}{P(S,W)}= \\frac{P(W|S,R)P(S|C)P(R|C)P(C)+P(W|S,R)P(S|C')P(R|C')P(C')}{P(W|S,R)P(S|C)P(R|C)P(C)+P(W|S,R)P(S|C')P(R|C')P(C')+P(W|S,R')P(S|C)P(R'|C)P(C)+P(W|S,R')P(S|C')P(R'|C')P(C')}=\\frac{0.99*0.1*0.8*0.5+0.99*0.5*0.2*0.5}{0.99*0.1*0.8*0.5+0.99*0.5*0.2*0.5+0.9*0.1*0.2*0.5+0.9*0.5*0.8*0.5}= 0.3204 $"
      ]
    },
    {
      "cell_type": "markdown",
      "metadata": {
        "id": "PnKlCxcsto64"
      },
      "source": [
        "Analytical result is similar to computed value which indicates that chosen parameters for burn-in and thinning-out were properly done and improved previously computed value. Moreover, the value for basic sampler for 50k samples also indicates proper working of the sampler."
      ]
    },
    {
      "attachments": {},
      "cell_type": "markdown",
      "metadata": {},
      "source": [
        "### Gelman Rubin Diagnostic"
      ]
    },
    {
      "attachments": {},
      "cell_type": "markdown",
      "metadata": {},
      "source": [
        "Steps for G-R Diagnostics:\n",
        "1. Minimum 2 runs of sampler (chains) is needed. I'll use ones form tasks 4&5.\n",
        "2. Only taking values further than suggested burn-in.\n",
        "3. Calculate variance in each chain (W) and variance between chains (B).\n",
        "Because I will do it only for 2 chains the formulas are explicite used in example. They are not general forms for more chains.  \n",
        "\n",
        "    $ W = \\frac{1}{2}(var_{1}^{2}+var_{2}^{2})$  \n",
        "\n",
        "    $ B = n * ((\\theta_{1}-\\theta)^{2}+(\\theta_{2}-\\theta)^{2})$   \n",
        "\n",
        "    where $\\theta$ is a mean.  \n",
        "\n",
        "    $\\theta = 0.5(\\theta_{1}+\\theta_{2})$  \n",
        "\n",
        "4. Calculate variance of $\\theta$ as weithed sum between W and B  \n",
        "\n",
        "    $var(\\theta) = (1- \\frac{1}{n})*W + \\frac{1}{n*B}$  \n",
        "\n",
        "5. Final reduction factor is computed via  \n",
        "\n",
        "    $R = \\sqrt{\\frac{var(\\theta)}{W}}$"
      ]
    },
    {
      "cell_type": "code",
      "execution_count": 44,
      "metadata": {},
      "outputs": [
        {
          "name": "stdout",
          "output_type": "stream",
          "text": [
            "Gelmen-Rubin Diagnostic:  1.0324610243789016\n"
          ]
        }
      ],
      "source": [
        "n = len(cloudy_rained1_plot[burn_in:len(cloudy_rained1_plot)])\n",
        "W = 0.5*(np.std(cloudy_rained1_plot[burn_in:len(cloudy_rained1_plot)])**2+np.std(cloudy_rained2_plot[burn_in:len(cloudy_rained2_plot)])**2)\n",
        "mean1 = np.mean(cloudy_rained1_plot[burn_in:len(cloudy_rained1_plot)])\n",
        "mean2 = np.mean(cloudy_rained2_plot[burn_in:len(cloudy_rained2_plot)])\n",
        "mean = 0.5*(mean1+mean2)\n",
        "B = n * ((mean1 - mean)**2 + (mean2 - mean)**2)\n",
        "var_theta = (1 - 1/n) * W + 1/n*B\n",
        "print(\"Gelmen-Rubin Diagnostic: \", np.sqrt(var_theta/W))\n"
      ]
    },
    {
      "attachments": {},
      "cell_type": "markdown",
      "metadata": {},
      "source": [
        "The result is confirming that burn-in time was chosen correctly and the plot converges because we want this number to be close to 1. This would indicate that the between chain variance is small. If between chain variance is small, that means both chains are mixing around the stationary distribution. Values substantially above 1 indicate lack of convergence. "
      ]
    }
  ],
  "metadata": {
    "colab": {
      "provenance": []
    },
    "kernelspec": {
      "display_name": "base",
      "language": "python",
      "name": "python3"
    },
    "language_info": {
      "codemirror_mode": {
        "name": "ipython",
        "version": 3
      },
      "file_extension": ".py",
      "mimetype": "text/x-python",
      "name": "python",
      "nbconvert_exporter": "python",
      "pygments_lexer": "ipython3",
      "version": "3.9.13"
    },
    "orig_nbformat": 4,
    "vscode": {
      "interpreter": {
        "hash": "4c47b7c1ec6f482ec70f018dc4d9f56a5ff5e9473dcb6f71e612195208ad16fe"
      }
    }
  },
  "nbformat": 4,
  "nbformat_minor": 0
}
